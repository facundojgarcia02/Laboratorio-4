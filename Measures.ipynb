{
 "cells": [
  {
   "cell_type": "code",
   "execution_count": 1,
   "id": "d0f66571-0483-4c12-adbe-dcce6acc824a",
   "metadata": {},
   "outputs": [],
   "source": [
    "\"\"\"\n",
    "WARNING:\n",
    "\n",
    "Before executing this notebook for experiments with DAQ please install: \n",
    "https://www.ni.com/es-cr/support/downloads/drivers/download/packaged.ni-daqmx.460239.html\n",
    "\n",
    "After installing, reboot your pc.\n",
    "\"\"\"\n",
    "\n",
    "\"\"\"\n",
    "KNOW BUGS:\n",
    "    1 - Interrumpting 'infinity_measure' sometimes doesn´t really stop the function. You should \n",
    "    press one more time the Interrumpt Button.\n",
    "\"\"\"\n",
    "\n",
    "import pandas as pd\n",
    "import matplotlib.pyplot as plt\n",
    "\n",
    "%matplotlib qt\n",
    "\n",
    "from utils.experiments.test import Test\n",
    "from utils.plotting import set_matplotlib_options, plot_measure\n",
    "from utils.misc import save_df\n",
    "\n",
    "DEBUG = True\n",
    "PLOT = True\n",
    "\n",
    "set_matplotlib_options()"
   ]
  },
  {
   "cell_type": "code",
   "execution_count": 2,
   "id": "1b858c8f-c7e0-44f3-8abd-4e1b17427dea",
   "metadata": {},
   "outputs": [],
   "source": [
    "#Init experiment\n",
    "test = Test(PLOT=PLOT, DEBUG=DEBUG)"
   ]
  },
  {
   "cell_type": "code",
   "execution_count": 3,
   "id": "2f07e0ad-fd89-42f7-adc9-7b75f916e492",
   "metadata": {},
   "outputs": [
    {
     "name": "stdin",
     "output_type": "stream",
     "text": [
      "Filename:  Test\n"
     ]
    }
   ],
   "source": [
    "df = test.inf_measure() \n",
    "#Al empaquetar dentro de un modulo, se pierde la capacidad de leer el print.\n",
    "#Por lo tanto, es altamenre recomendado utilizar PLOT = True.\n",
    "save_df(df)\n",
    "plt.close()"
   ]
  },
  {
   "cell_type": "code",
   "execution_count": 4,
   "id": "9235b687-12b3-43bc-b5f0-18a650eee963",
   "metadata": {},
   "outputs": [],
   "source": [
    "fig, ax = plot_measure(df[\"index\"], df[\"value\"], df[\"dt\"])"
   ]
  },
  {
   "cell_type": "code",
   "execution_count": null,
   "id": "55c4c98d-0d98-40a7-a56d-20e1400a43d7",
   "metadata": {},
   "outputs": [],
   "source": []
  }
 ],
 "metadata": {
  "kernelspec": {
   "display_name": "Python 3 (ipykernel)",
   "language": "python",
   "name": "python3"
  },
  "language_info": {
   "codemirror_mode": {
    "name": "ipython",
    "version": 3
   },
   "file_extension": ".py",
   "mimetype": "text/x-python",
   "name": "python",
   "nbconvert_exporter": "python",
   "pygments_lexer": "ipython3",
   "version": "3.9.13"
  }
 },
 "nbformat": 4,
 "nbformat_minor": 5
}
